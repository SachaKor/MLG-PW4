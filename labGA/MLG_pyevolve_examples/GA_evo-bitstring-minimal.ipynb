{
 "cells": [
  {
   "cell_type": "code",
   "execution_count": 1,
   "metadata": {},
   "outputs": [
    {
     "ename": "ImportError",
     "evalue": "No module named 'pyevolve'",
     "output_type": "error",
     "traceback": [
      "\u001b[0;31m---------------------------------------------------------------------------\u001b[0m",
      "\u001b[0;31mImportError\u001b[0m                               Traceback (most recent call last)",
      "\u001b[0;32m<ipython-input-1-b39b390379e9>\u001b[0m in \u001b[0;36m<module>\u001b[0;34m()\u001b[0m\n\u001b[0;32m----> 1\u001b[0;31m \u001b[0;32mfrom\u001b[0m \u001b[0mpyevolve\u001b[0m \u001b[0;32mimport\u001b[0m \u001b[0mG1DBinaryString\u001b[0m\u001b[0;34m\u001b[0m\u001b[0m\n\u001b[0m\u001b[1;32m      2\u001b[0m \u001b[0;32mfrom\u001b[0m \u001b[0mpyevolve\u001b[0m \u001b[0;32mimport\u001b[0m \u001b[0mGSimpleGA\u001b[0m\u001b[0;34m\u001b[0m\u001b[0m\n",
      "\u001b[0;31mImportError\u001b[0m: No module named 'pyevolve'"
     ]
    }
   ],
   "source": [
    "from pyevolve import G1DBinaryString\n",
    "from pyevolve import GSimpleGA"
   ]
  },
  {
   "cell_type": "code",
   "execution_count": 1,
   "metadata": {},
   "outputs": [],
   "source": [
    "def fitness(chromosome):\n",
    "    score = 0.0\n",
    "    # iterate over the chromosome\n",
    "    for value in chromosome:\n",
    "        if value==1:\n",
    "            score += 1\n",
    "    return score"
   ]
  },
  {
   "cell_type": "code",
   "execution_count": 4,
   "metadata": {},
   "outputs": [
    {
     "name": "stdout",
     "output_type": "stream",
     "text": [
      "Gen. 0 (0.00%): Max/Min/Avg Fitness(Raw) [12.06(16.00)/8.34(5.00)/10.05(10.05)]\n",
      "Gen. 10 (10.00%): Max/Min/Avg Fitness(Raw) [23.41(20.00)/7.40(18.00)/19.51(19.51)]\n",
      "Gen. 20 (20.00%): Max/Min/Avg Fitness(Raw) [23.50(20.00)/4.51(18.00)/19.59(19.59)]\n",
      "Gen. 30 (30.00%): Max/Min/Avg Fitness(Raw) [23.53(20.00)/3.29(18.00)/19.61(19.61)]\n",
      "Gen. 40 (40.00%): Max/Min/Avg Fitness(Raw) [23.50(20.00)/0.00(17.00)/19.65(19.59)]\n",
      "Gen. 50 (50.00%): Max/Min/Avg Fitness(Raw) [23.49(20.00)/5.07(18.00)/19.58(19.57)]\n",
      "Gen. 60 (60.00%): Max/Min/Avg Fitness(Raw) [23.59(20.00)/0.00(17.00)/19.80(19.66)]\n",
      "Gen. 70 (70.00%): Max/Min/Avg Fitness(Raw) [23.57(20.00)/0.00(16.00)/19.88(19.64)]\n",
      "Gen. 80 (80.00%): Max/Min/Avg Fitness(Raw) [23.53(20.00)/0.00(17.00)/19.70(19.61)]\n",
      "Gen. 90 (90.00%): Max/Min/Avg Fitness(Raw) [23.64(20.00)/0.00(16.00)/20.09(19.70)]\n",
      "Gen. 100 (100.00%): Max/Min/Avg Fitness(Raw) [23.62(20.00)/0.00(18.00)/19.77(19.69)]\n",
      "Total time elapsed: 0.433 seconds.\n",
      "- GenomeBase\n",
      "\tScore:\t\t\t 20.000000\n",
      "\tFitness:\t\t 23.625000\n",
      "\n",
      "\tParams:\t\t {}\n",
      "\n",
      "\tSlot [Evaluator] (Count: 1)\n",
      "\t\tName: fitness - Weight: 0.50\n",
      "\tSlot [Initializator] (Count: 1)\n",
      "\t\tName: G1DBinaryStringInitializator - Weight: 0.50\n",
      "\t\tDoc:  1D Binary String initializator \n",
      "\tSlot [Mutator] (Count: 1)\n",
      "\t\tName: G1DBinaryStringMutatorFlip - Weight: 0.50\n",
      "\t\tDoc:  The classical flip mutator for binary strings \n",
      "\tSlot [Crossover] (Count: 1)\n",
      "\t\tName: G1DBinaryStringXSinglePoint - Weight: 0.50\n",
      "\t\tDoc:  The crossover of 1D Binary String, Single Point\n",
      "\n",
      "   .. warning:: You can't use this crossover method for binary strings with length of 1.\n",
      "\n",
      "   \n",
      "\n",
      "- G1DBinaryString\n",
      "\tString length:\t 20\n",
      "\tString:\t\t 11111111111111111111\n",
      "\n",
      "\n"
     ]
    }
   ],
   "source": [
    "# Chromosome representation\n",
    "\n",
    "# genome = bitstring\n",
    "genome = G1DBinaryString.G1DBinaryString(20)\n",
    "\n",
    "# how to compute the fitness\n",
    "genome.evaluator.set(fitness)\n",
    "\n",
    "# GA initialisation\n",
    "ga = GSimpleGA.GSimpleGA(genome)\n",
    "\n",
    "ga.evolve(freq_stats=10)\n",
    "\n",
    "# Final best solution\n",
    "print(ga.bestIndividual())"
   ]
  }
 ],
 "metadata": {
  "kernelspec": {
   "display_name": "python27",
   "language": "python",
   "name": "python27"
  },
  "language_info": {
   "codemirror_mode": {
    "name": "ipython",
    "version": 2
   },
   "file_extension": ".py",
   "mimetype": "text/x-python",
   "name": "python",
   "nbconvert_exporter": "python",
   "pygments_lexer": "ipython2",
   "version": "2.7.16"
  }
 },
 "nbformat": 4,
 "nbformat_minor": 1
}
