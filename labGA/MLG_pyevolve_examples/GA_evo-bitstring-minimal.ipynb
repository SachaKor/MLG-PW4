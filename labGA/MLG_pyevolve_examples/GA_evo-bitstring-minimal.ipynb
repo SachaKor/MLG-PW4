{
 "cells": [
  {
   "cell_type": "code",
   "execution_count": 1,
   "metadata": {},
   "outputs": [],
   "source": [
    "from pyevolve import G1DBinaryString\n",
    "from pyevolve import GSimpleGA"
   ]
  },
  {
   "cell_type": "code",
   "execution_count": 2,
   "metadata": {},
   "outputs": [],
   "source": [
    "def fitness(chromosome):\n",
    "    score = 0.0\n",
    "    # iterate over the chromosome\n",
    "    for value in chromosome:\n",
    "        if value==1:\n",
    "            score += 1\n",
    "    return score"
   ]
  },
  {
   "cell_type": "code",
   "execution_count": 3,
   "metadata": {},
   "outputs": [
    {
     "name": "stdout",
     "output_type": "stream",
     "text": [
      "Gen. 0 (0.00%): Max/Min/Avg Fitness(Raw) [11.41(14.00)/6.75(3.00)/9.51(9.51)]\n",
      "Gen. 10 (10.00%): Max/Min/Avg Fitness(Raw) [23.62(20.00)/11.02(19.00)/19.69(19.69)]\n",
      "Gen. 20 (20.00%): Max/Min/Avg Fitness(Raw) [23.49(20.00)/0.00(17.00)/19.63(19.57)]\n",
      "Gen. 30 (30.00%): Max/Min/Avg Fitness(Raw) [23.61(20.00)/0.00(18.00)/19.70(19.68)]\n",
      "Gen. 40 (40.00%): Max/Min/Avg Fitness(Raw) [23.45(20.00)/6.55(18.00)/19.54(19.54)]\n",
      "Gen. 50 (50.00%): Max/Min/Avg Fitness(Raw) [23.58(20.00)/1.12(18.00)/19.65(19.65)]\n",
      "Gen. 60 (60.00%): Max/Min/Avg Fitness(Raw) [23.61(20.00)/0.00(18.00)/19.70(19.68)]\n",
      "Gen. 70 (70.00%): Max/Min/Avg Fitness(Raw) [23.53(20.00)/3.29(18.00)/19.61(19.61)]\n",
      "Gen. 80 (80.00%): Max/Min/Avg Fitness(Raw) [23.46(20.00)/0.00(17.00)/19.62(19.55)]\n",
      "Gen. 90 (90.00%): Max/Min/Avg Fitness(Raw) [23.57(20.00)/1.90(18.00)/19.64(19.64)]\n",
      "Gen. 100 (100.00%): Max/Min/Avg Fitness(Raw) [23.57(20.00)/1.90(18.00)/19.64(19.64)]\n",
      "Total time elapsed: 0.768 seconds.\n",
      "- GenomeBase\n",
      "\tScore:\t\t\t 20.000000\n",
      "\tFitness:\t\t 23.565000\n",
      "\n",
      "\tParams:\t\t {}\n",
      "\n",
      "\tSlot [Evaluator] (Count: 1)\n",
      "\t\tName: fitness - Weight: 0.50\n",
      "\tSlot [Initializator] (Count: 1)\n",
      "\t\tName: G1DBinaryStringInitializator - Weight: 0.50\n",
      "\t\tDoc:  1D Binary String initializator \n",
      "\tSlot [Mutator] (Count: 1)\n",
      "\t\tName: G1DBinaryStringMutatorFlip - Weight: 0.50\n",
      "\t\tDoc:  The classical flip mutator for binary strings \n",
      "\tSlot [Crossover] (Count: 1)\n",
      "\t\tName: G1DBinaryStringXSinglePoint - Weight: 0.50\n",
      "\t\tDoc:  The crossover of 1D Binary String, Single Point\n",
      "\n",
      "   .. warning:: You can't use this crossover method for binary strings with length of 1.\n",
      "\n",
      "   \n",
      "\n",
      "- G1DBinaryString\n",
      "\tString length:\t 20\n",
      "\tString:\t\t 11111111111111111111\n",
      "\n",
      "\n"
     ]
    }
   ],
   "source": [
    "# Chromosome representation\n",
    "\n",
    "# genome = bitstring\n",
    "genome = G1DBinaryString.G1DBinaryString(20)\n",
    "\n",
    "# how to compute the fitness\n",
    "genome.evaluator.set(fitness)\n",
    "\n",
    "# GA initialisation\n",
    "ga = GSimpleGA.GSimpleGA(genome)\n",
    "\n",
    "ga.evolve(freq_stats=10)\n",
    "\n",
    "# Final best solution\n",
    "print(ga.bestIndividual())"
   ]
  }
 ],
 "metadata": {
  "kernelspec": {
   "display_name": "Python 2",
   "language": "python",
   "name": "python2"
  },
  "language_info": {
   "codemirror_mode": {
    "name": "ipython",
    "version": 2
   },
   "file_extension": ".py",
   "mimetype": "text/x-python",
   "name": "python",
   "nbconvert_exporter": "python",
   "pygments_lexer": "ipython2",
   "version": "2.7.16"
  }
 },
 "nbformat": 4,
 "nbformat_minor": 1
}
