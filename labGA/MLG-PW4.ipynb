{
 "cells": [
  {
   "cell_type": "markdown",
   "metadata": {},
   "source": [
    "# PW4: Genetic algorithms for optimization\n",
    "*Alexandra Korukova, Samuel Mayor*  \n",
    "*HEIG-VD - MLG - 30.05.2019*"
   ]
  },
  {
   "cell_type": "code",
   "execution_count": 18,
   "metadata": {},
   "outputs": [],
   "source": [
    "from scipy import sin, cos, tan, arctan, arctan2, arccos, pi\n",
    "import numpy as np\n",
    "from pyevolve import G1DList\n",
    "from pyevolve import GSimpleGA\n",
    "from pyevolve import GAllele\n",
    "from pyevolve import Mutators\n",
    "from pyevolve import Initializators\n",
    "from pyevolve import DBAdapters\n",
    "from pyevolve import Crossovers\n",
    "from pyevolve import Consts\n",
    "import sys, random"
   ]
  },
  {
   "cell_type": "code",
   "execution_count": 19,
   "metadata": {},
   "outputs": [],
   "source": [
    "LAT = [16.47, 16.47, 20.09, 22.39, 25.23, 22.00, 20.47, 17.20, 16.30, 14.05, 16.53, 21.52, 19.41, 20.09]\n",
    "\n",
    "LON = [96.10, 94.44, 92.54, 93.37, 97.24, 96.05, 97.02, 96.29, 97.38, 98.12, 97.38, 95.59, 97.13, 94.55]"
   ]
  },
  {
   "cell_type": "code",
   "execution_count": 20,
   "metadata": {},
   "outputs": [],
   "source": [
    "def tour_length(matrix, tour):\n",
    "   \"\"\" Returns the total length of the tour \"\"\"\n",
    "   total=0\n",
    "   num_cities=len(tour)\n",
    "   for i in range(num_cities):\n",
    "      j=(i+1)%num_cities\n",
    "      city_i=tour[i]\n",
    "      city_j=tour[j]\n",
    "      total+=matrix[city_i,city_j]\n",
    "   return total\n",
    "\n",
    "def G1DListTSPInitializator(genome, **args):\n",
    "   \"\"\" The initializator for the TSP \"\"\"\n",
    "   genome.clearList()\n",
    "   lst = [i for i in xrange(genome.getListSize())]\n",
    "\n",
    "   for i in xrange(genome.getListSize()):\n",
    "      choice = random.choice(lst)\n",
    "      lst.remove(choice)\n",
    "      genome.append(choice)\n",
    "\n",
    "cm = []\n",
    "coords = []\n",
    "\n",
    "def eval_func(chromosome):\n",
    "   \"\"\" The evaluation function \"\"\"\n",
    "   global cm\n",
    "   return tour_length(cm, chromosome)"
   ]
  },
  {
   "cell_type": "code",
   "execution_count": 21,
   "metadata": {},
   "outputs": [],
   "source": [
    "def spherical_distance(lat1, long1, lat2, long2):\n",
    "    phi1 = 0.5*pi - lat1\n",
    "    phi2 = 0.5*pi - lat2\n",
    "    r = 0.5*(6378137 + 6356752) # mean radius in meters\n",
    "    t = sin(phi1)*sin(phi2)*cos(long1-long2) + cos(phi1)*cos(phi2)\n",
    "    return r * arccos(t)"
   ]
  },
  {
   "cell_type": "code",
   "execution_count": 25,
   "metadata": {},
   "outputs": [
    {
     "name": "stdout",
     "output_type": "stream",
     "text": [
      "Gen. 0 (0.00%):"
     ]
    },
    {
     "name": "stderr",
     "output_type": "stream",
     "text": [
      "/home/etnarion/miniconda3/envs/MLGPW4/lib/python2.7/site-packages/ipykernel_launcher.py:10: ComplexWarning: Casting complex values to real discards the imaginary part\n",
      "  # Remove the CWD from sys.path while we load stuff.\n"
     ]
    },
    {
     "name": "stdout",
     "output_type": "stream",
     "text": [
      " Max/Min/Avg Fitness(Raw) [173409395.88(185828921.83)/113400322.93(100032864.20)/144507829.90(144507829.90)]\n",
      "Gen. 100 (10.00%): Max/Min/Avg Fitness(Raw) [97585358.02(129290874.50)/78566193.72(73195711.96)/81321131.68(81321131.68)]\n",
      "Gen. 200 (20.00%): Max/Min/Avg Fitness(Raw) [97582380.42(137157564.01)/78277479.31(70877276.43)/81318650.35(81318650.35)]\n",
      "Gen. 300 (30.00%): Max/Min/Avg Fitness(Raw) [85837902.92(125380190.61)/70455699.41(67481977.56)/71531585.77(71531585.77)]\n",
      "Gen. 400 (40.00%): Max/Min/Avg Fitness(Raw) [90703491.50(117707857.49)/72677660.34(67481977.56)/75586242.91(75586242.91)]\n",
      "Gen. 500 (50.00%): Max/Min/Avg Fitness(Raw) [91771531.62(126334866.67)/73717070.87(67481977.56)/76476276.35(76476276.35)]\n",
      "Gen. 600 (60.00%): Max/Min/Avg Fitness(Raw) [91615655.24(129991560.51)/73823263.71(67481977.56)/76346379.37(76346379.37)]\n",
      "Gen. 700 (70.00%): Max/Min/Avg Fitness(Raw) [90950527.06(112060481.68)/72318875.49(67481977.56)/75792105.88(75792105.88)]\n",
      "Gen. 800 (80.00%): Max/Min/Avg Fitness(Raw) [91055331.58(142900435.04)/73977964.12(67481977.56)/75879442.98(75879442.98)]\n",
      "Gen. 900 (90.00%): Max/Min/Avg Fitness(Raw) [91434636.43(128872573.63)/73674759.51(67481977.56)/76195530.36(76195530.36)]\n",
      "Gen. 1000 (100.00%): Max/Min/Avg Fitness(Raw) [94911436.25(145349011.17)/76320778.98(67481977.56)/79092863.54(79092863.54)]\n",
      "Total time elapsed: 9.205 seconds.\n",
      "- GenomeBase\n",
      "\tScore:\t\t\t 67481977.560317\n",
      "\tFitness:\t\t 76320778.978510\n",
      "\n",
      "\tParams:\t\t {'allele': - GAlleles\n",
      "\tHomogeneous:\t True\n",
      "\tList size:\t 1\n",
      "\tAlleles:\n",
      "\n",
      "Allele for 0 position:\n",
      "- GAlleleList\n",
      "\tList size:\t 14\n",
      "\tAllele Options:\t [0, 1, 2, 3, 4, 5, 6, 7, 8, 9, 10, 11, 12, 13]\n",
      "\n",
      "}\n",
      "\n",
      "\tSlot [Evaluator] (Count: 1)\n",
      "\t\tName: eval_func - Weight: 0.50\n",
      "\t\tDoc:  The evaluation function \n",
      "\tSlot [Initializator] (Count: 1)\n",
      "\t\tName: G1DListTSPInitializator - Weight: 0.50\n",
      "\t\tDoc:  The initializator for the TSP \n",
      "\tSlot [Mutator] (Count: 1)\n",
      "\t\tName: G1DListMutatorSwap - Weight: 0.50\n",
      "\t\tDoc:  The mutator of G1DList, Swap Mutator\n",
      "   \n",
      "   .. note:: this mutator is :term:`Data Type Independent`\n",
      "\n",
      "   \n",
      "\tSlot [Crossover] (Count: 1)\n",
      "\t\tName: G1DListCrossoverOX - Weight: 0.50\n",
      "\t\tDoc:  The OX Crossover for G1DList  (order crossover) \n",
      "\n",
      "- G1DList\n",
      "\tList size:\t 14\n",
      "\tList:\t\t [3, 1, 11, 5, 0, 7, 10, 8, 13, 6, 9, 2, 12, 4]\n",
      "\n",
      "\n"
     ]
    }
   ],
   "source": [
    "# creates latitude/longitude tuples for each city\n",
    "coords = []\n",
    "for i in range(len(LAT)):\n",
    "    coords.append((LAT[i], LON[i]))\n",
    "\n",
    "# calculate distances between each city pairs\n",
    "cm = np.zeros((14, 14))\n",
    "for i,c1 in enumerate(coords):\n",
    "    for j,c2 in enumerate(coords):\n",
    "        cm[i, j] = spherical_distance(c1[0], c1[1], c2[0], c2[1])\n",
    "\n",
    "# set the alleles to the cities numbers\n",
    "setOfAlleles = GAllele.GAlleles(homogeneous=True)\n",
    "lst = [ i for i in xrange(len(coords)) ]\n",
    "a = GAllele.GAlleleList(lst)\n",
    "setOfAlleles.add(a)\n",
    "\n",
    "genome = G1DList.G1DList(len(coords))\n",
    "genome.setParams(allele=setOfAlleles)\n",
    "\n",
    "genome.evaluator.set(eval_func)\n",
    "genome.mutator.set(Mutators.G1DListMutatorSwap)\n",
    "genome.crossover.set(Crossovers.G1DListCrossoverOX)\n",
    "genome.initializator.set(G1DListTSPInitializator)\n",
    "\n",
    "ga = GSimpleGA.GSimpleGA(genome)\n",
    "ga.setGenerations(1000)\n",
    "ga.setMinimax(Consts.minimaxType[\"minimize\"])\n",
    "ga.setCrossoverRate(1.0)\n",
    "ga.setMutationRate(0.03)\n",
    "ga.setPopulationSize(80)\n",
    "\n",
    "ga.evolve(freq_stats=100)\n",
    "best = ga.bestIndividual()\n",
    "print best"
   ]
  },
  {
   "cell_type": "code",
   "execution_count": null,
   "metadata": {},
   "outputs": [],
   "source": []
  }
 ],
 "metadata": {
  "kernelspec": {
   "display_name": "Python 2",
   "language": "python",
   "name": "python2"
  },
  "language_info": {
   "codemirror_mode": {
    "name": "ipython",
    "version": 2
   },
   "file_extension": ".py",
   "mimetype": "text/x-python",
   "name": "python",
   "nbconvert_exporter": "python",
   "pygments_lexer": "ipython2",
   "version": "2.7.16"
  }
 },
 "nbformat": 4,
 "nbformat_minor": 2
}
